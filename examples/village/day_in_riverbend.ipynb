{
  "cells": [
    {
      "cell_type": "markdown",
      "metadata": {
        "id": "8jAYDAvRLTQY"
      },
      "source": [
        "```\n",
        "Copyright 2023 DeepMind Technologies Limited.\n",
        "\n",
        "Licensed under the Apache License, Version 2.0 (the \"License\");\n",
        "you may not use this file except in compliance with the License.\n",
        "You may obtain a copy of the License at\n",
        "\n",
        "    https://www.apache.org/licenses/LICENSE-2.0\n",
        "\n",
        "Unless required by applicable law or agreed to in writing, software\n",
        "distributed under the License is distributed on an \"AS IS\" BASIS,\n",
        "WITHOUT WARRANTIES OR CONDITIONS OF ANY KIND, either express or implied.\n",
        "See the License for the specific language governing permissions and\n",
        "limitations under the License.\n",
        "```"
      ]
    },
    {
      "cell_type": "markdown",
      "metadata": {
        "id": "zWgEkOAO9OVz"
      },
      "source": [
        "# Day in Riverbend Example\n",
        "\n",
        "An illustrative social simulation with 5 players which simulates a normal day in an imaginary town caller Riverbend. Each player has their own configurable backstory. The agents are configured to re-implement the architecure in Park et al. (2023) - they have reflection, plan, and identity components; their associative memory uses importance function. This is _not_ an exact re-implementation.\n",
        "\n",
        "Park, J.S., O'Brien, J.C., Cai, C.J., Morris, M.R., Liang, P. and Bernstein, M.S., 2023. Generative agents: Interactive simulacra of human behavior. arXiv preprint arXiv:2304.03442."
      ]
    },
    {
      "cell_type": "markdown",
      "metadata": {
        "id": "J2TwJrZ08wXz"
      },
      "source": [
        "## Init and import"
      ]
    },
    {
      "cell_type": "code",
      "execution_count": null,
      "metadata": {
        "id": "-qLG5ExLqpWa"
      },
      "outputs": [],
      "source": [
        "# @title Imports\n",
        "\n",
        "import concurrent.futures\n",
        "import datetime\n",
        "import random\n",
        "\n",
        "from google.colab import widgets\n",
        "from IPython import display\n",
        "\n",
        "from concordia.agents import basic_agent\n",
        "from concordia.agents import components\n",
        "from concordia.associative_memory import associative_memory\n",
        "from concordia.associative_memory import blank_memories\n",
        "from concordia.associative_memory import embedder_st5\n",
        "from concordia.associative_memory import formative_memories\n",
        "from concordia.associative_memory import importance_function\n",
        "from concordia.clocks import game_clock\n",
        "from concordia.environment import components as gm_components\n",
        "from concordia.environment import game_master\n",
        "from concordia.environment.metrics import goal_achievement\n",
        "from concordia.language_model import sax_model\n",
        "from concordia.utils import html as html_lib\n",
        "from concordia.utils import plotting"
      ]
    },
    {
      "cell_type": "code",
      "execution_count": null,
      "metadata": {
        "id": "I3OtW8flCJSC"
      },
      "outputs": [],
      "source": [
        "# @title Setup sentence encoder\n",
        "embedder = embedder_st5.EmbedderST5()"
      ]
    },
    {
      "cell_type": "code",
      "execution_count": null,
      "metadata": {
        "id": "cugwvFIKv5AS"
      },
      "outputs": [],
      "source": [
        "# @title SAX Language Model\n",
        "\n",
        "# Add path to your SAX server here:\n",
        "SAX_PATH = '' # @param {type:\"string\"}\n",
        "DEFAULT_MAX_TOKENS = 300  # @param {type: 'integer'}\n",
        "DEFAULT_TIMEOUT_SECONDS = 60  # @param {type: 'number'}\n",
        "\n",
        "model = sax_model.SAXLanguageModel(SAX_PATH)"
      ]
    },
    {
      "cell_type": "markdown",
      "metadata": {
        "id": "z9HYjZgyakc_"
      },
      "source": [
        "## Configuring the generic knowledge of players and GM."
      ]
    },
    {
      "cell_type": "code",
      "execution_count": null,
      "metadata": {
        "id": "cVfExQ0suX5j"
      },
      "outputs": [],
      "source": [
        "#@title Make importance models\n",
        "\n",
        "importance_model = importance_function.AgentImportanceModel(model)\n",
        "importance_model_gm = importance_function.ConstantImportanceModel()\n"
      ]
    },
    {
      "cell_type": "code",
      "execution_count": null,
      "metadata": {
        "id": "TeVYseoD2WYa"
      },
      "outputs": [],
      "source": [
        "#@title Make the clock\n",
        "SETUP_TIME = datetime.datetime(hour=8, year=2024, month=9, day=1)\n",
        "\n",
        "START_TIME = datetime.datetime(hour=9, year=2024, month=10, day=1)\n",
        "clock = game_clock.MultiIntervalClock(\n",
        "    start=SETUP_TIME,\n",
        "    step_sizes=[datetime.timedelta(hours=1), datetime.timedelta(seconds=10)])\n",
        "\n"
      ]
    },
    {
      "cell_type": "code",
      "execution_count": null,
      "metadata": {
        "id": "b8vWoQ6by51N"
      },
      "outputs": [],
      "source": [
        "# @title Generic memories are memories that all players and GM share.\n",
        "\n",
        "shared_memories = [\n",
        "    'There is a hamlet named Riverbend.',\n",
        "    'Riverbend is an idyllic rural town.',\n",
        "    'The river Solripple runs through the village of Riverbend.',\n",
        "    'The Solripple is a mighty river.',\n",
        "    'Riverbend has a temperate climate.',\n",
        "    'Riverbend has a main street.',\n",
        "    'There is a guitar store on Main street Riverbend.',\n",
        "    'There is a grocery store on Main street Riverbend.',\n",
        "    'There is a school on Main street Riverbend.',\n",
        "    'There is a library on Main street Riverbend.',\n",
        "    'Riverbend has only one pub.',\n",
        "    'There is a pub on Main street Riverbend called The Sundrop Saloon.',\n",
        "    'Town hall meetings often take place at The Sundrop Saloon.',\n",
        "    'Riverbend does not have a park',\n",
        "    'The main crop grown on the farms near Riverbend is alfalfa.',\n",
        "    'Farms near Riverbend depend on water from the Solripple river.',\n",
        "]\n",
        "\n",
        "# The generic context will be used for the NPC context. It reflects general\n",
        "# knowledge and is possessed by all characters.\n",
        "shared_context = model.sample_text(\n",
        "    'Summarize the following passage in a concise and insightful fashion:\\n'\n",
        "    + '\\n'.join(shared_memories)\n",
        "    + '\\n'\n",
        "    + 'Summary:'\n",
        ")\n",
        "print(shared_context)\n"
      ]
    },
    {
      "cell_type": "markdown",
      "metadata": {
        "id": "YBCXUQ8sayzj"
      },
      "source": [
        "## Functions to build the players"
      ]
    },
    {
      "cell_type": "code",
      "execution_count": null,
      "metadata": {
        "id": "T41TQHB7vacw"
      },
      "outputs": [],
      "source": [
        "# @title setup formative memory factories\n",
        "blank_memory_factory = blank_memories.MemoryFactory(\n",
        "    model=model,\n",
        "    embedder=embedder,\n",
        "    importance=importance_model.importance,\n",
        "    clock_now=clock.now,\n",
        ")\n",
        "formative_memory_factory = formative_memories.FormativeMemoryFactory(\n",
        "    model=model,\n",
        "    shared_memories=shared_memories,\n",
        "    blank_memory_factory_call=blank_memory_factory.make_blank_memory,\n",
        ")"
      ]
    },
    {
      "cell_type": "code",
      "execution_count": null,
      "metadata": {
        "id": "As465DbcsAwZ"
      },
      "outputs": [],
      "source": [
        "def build_agent(agent_config):\n",
        "\n",
        "  mem = formative_memory_factory.make_memories(agent_config)\n",
        "\n",
        "  # Build the player.\n",
        "\n",
        "  time = components.report_state.ReportState(\n",
        "    name='current_time',\n",
        "    get_state=clock.current_time_interval_str)\n",
        "\n",
        "  identity = components.identity.SimIdentity(model, mem, agent_config.name)\n",
        "  goal_component = components.constant.ConstantConstruct(state=agent_config.goal)\n",
        "  reflection = components.reflection.Reflection(\n",
        "      model=model,\n",
        "      memory=mem,\n",
        "      agent_name=agent_config.name,\n",
        "      importance_threshold=15.0,\n",
        "      verbose=False,\n",
        "  )\n",
        "  plan = components.plan.SimPlan(\n",
        "      model,\n",
        "      mem,\n",
        "      agent_config.name,\n",
        "      components=[identity, time],\n",
        "      goal=goal_component,\n",
        "      verbose=False,\n",
        "  )\n",
        "  current_obs = components.observation.Observation(agent_config.name, memory=mem)\n",
        "  summary_obs = components.observation.ObservationSummary(\n",
        "      model=model,\n",
        "      agent_name=agent_config.name,\n",
        "      components=[identity],\n",
        "  )\n",
        "  agent = basic_agent.BasicAgent(\n",
        "      model,\n",
        "      mem,\n",
        "      agent_name=agent_config.name,\n",
        "      clock=clock,\n",
        "      verbose=True,\n",
        "      components=[identity, plan, reflection, time, summary_obs, current_obs],\n",
        "  )\n",
        "\n",
        "  return agent"
      ]
    },
    {
      "cell_type": "markdown",
      "metadata": {
        "id": "qt8CK2mMbD7q"
      },
      "source": [
        "## Configure and build the players"
      ]
    },
    {
      "cell_type": "code",
      "execution_count": null,
      "metadata": {
        "id": "QhAkMajsunp4"
      },
      "outputs": [],
      "source": [
        "def make_random_big_five()-\u003estr:\n",
        "  return str({\n",
        "      'extraversion': random.randint(1, 10),\n",
        "      'neuroticism': random.randint(1, 10),\n",
        "      'openness': random.randint(1, 10),\n",
        "      'conscientiousness': random.randint(1, 10),\n",
        "      'agreeableness': random.randint(1, 10),\n",
        "  })\n",
        "\n",
        "scenario_premise = [\n",
        "\n",
        "    (\n",
        "        'Alice, Bob, Charlie and Dorothy are at the Sundrop Saloon. There '\n",
        "        + 'is a snow storm and they have to wait it out inside.'\n",
        "    ),\n",
        "]\n",
        "player_configs = [\n",
        "    formative_memories.AgentConfig(\n",
        "        name='Alice',\n",
        "        gender='female',\n",
        "        goal='Organise a street party in Riverbend.',\n",
        "        context=shared_context+'Alice is very socially active and knows everyone in town',\n",
        "        traits = make_random_big_five()\n",
        "            ),\n",
        "    formative_memories.AgentConfig(\n",
        "        name='Bob',\n",
        "        gender='male',\n",
        "        goal='Start a chess club in Riverbend.',\n",
        "        context=shared_context + 'Bob is a chess enthusiast',\n",
        "        traits = make_random_big_five()\n",
        "            ),\n",
        "    formative_memories.AgentConfig(\n",
        "        name='Charlie',\n",
        "        gender='male',\n",
        "        goal='Organise an ale festival at the Sundrop Saloon.',\n",
        "        context=shared_context + 'Charlie works at the Sundrop Saloon and loves real ales',\n",
        "        traits = make_random_big_five()\n",
        "            ),\n",
        "    formative_memories.AgentConfig(\n",
        "        name='Dorothy',\n",
        "        gender='female',\n",
        "        goal=(\n",
        "            'Take students on a tour of Riverbend'\n",
        "            ' it is funny.'\n",
        "        ),\n",
        "        context=shared_context + 'Dorothy is a teacher at school in Riverbend',\n",
        "        traits = make_random_big_five()\n",
        "            ),\n",
        "    formative_memories.AgentConfig(\n",
        "        name='Ellen',\n",
        "        gender='female',\n",
        "        goal=(\n",
        "            'Write a paper on the history of Riverbend.'\n",
        "        ),\n",
        "        context=shared_context + 'Ellen is a librarian in the library in Riverbend',\n",
        "        traits = make_random_big_five()\n",
        "    ),\n",
        "]"
      ]
    },
    {
      "cell_type": "code",
      "execution_count": null,
      "metadata": {
        "id": "5RU3ZV4oIknW"
      },
      "outputs": [],
      "source": [
        "NUM_PLAYERS = 3\n",
        "\n",
        "player_configs = player_configs[:NUM_PLAYERS]\n",
        "player_goals = {player_config.name: player_config.goal for player_config in player_configs}\n",
        "players = []\n",
        "\n",
        "with concurrent.futures.ThreadPoolExecutor(max_workers=NUM_PLAYERS) as pool:\n",
        "  for agent in pool.map(build_agent, player_configs[:NUM_PLAYERS]):\n",
        "    players.append(agent)"
      ]
    },
    {
      "cell_type": "markdown",
      "metadata": {
        "id": "2vt8ggYUrW8M"
      },
      "source": [
        "## Build GM"
      ]
    },
    {
      "cell_type": "code",
      "execution_count": null,
      "metadata": {
        "id": "siwglxrc6z2j"
      },
      "outputs": [],
      "source": [
        "game_master_instructions = (\n",
        "    'This is a social science experiment. It is structured as a '\n",
        "    'tabletop roleplaying game (like dungeons and dragons). You are the '\n",
        "    'game master. You will describe the current situation to the '\n",
        "    'participants in the experiment and then on the basis of what you '\n",
        "    'tell them they will suggest actions for the character they control. '\n",
        "    'Aside from you, each other participant controls just one character. '\n",
        "    'You are the game master so you may control any non-player '\n",
        "    'character. You will track the state of the world and keep it '\n",
        "    'consistent as time passes in the simulation and the participants '\n",
        "    'take actions and change things in their world. Remember that this '\n",
        "    'is a serious social science experiment. It is not just a game. It '\n",
        "    'need not be fun for the participants. Always use third-person '\n",
        "    'limited perspective, even when speaking directly to the participants.'\n",
        ")"
      ]
    },
    {
      "cell_type": "code",
      "execution_count": null,
      "metadata": {
        "id": "3W65kHOKQwrv"
      },
      "outputs": [],
      "source": [
        "game_master_memory = associative_memory.AssociativeMemory(\n",
        "    embedder, importance_model_gm.importance, clock=clock.now)"
      ]
    },
    {
      "cell_type": "code",
      "execution_count": null,
      "metadata": {
        "id": "bGNY_D7FID4I"
      },
      "outputs": [],
      "source": []
    },
    {
      "cell_type": "code",
      "execution_count": null,
      "metadata": {
        "id": "-cxivChc633z"
      },
      "outputs": [],
      "source": [
        "# @title Create components and externalities\n",
        "citizen_names = [player.name for player in players]\n",
        "player_names = [player.name for player in players]\n",
        "\n",
        "instructions_construct = components.constant.ConstantConstruct(\n",
        "    game_master_instructions, 'Instructions'\n",
        ")\n",
        "facts_on_village = components.constant.ConstantConstruct(\n",
        "    ' '.join(shared_memories), 'General knowledge of Riverbend'\n",
        ")\n",
        "player_status = gm_components.player_status.PlayerStatus(\n",
        "    clock.now, model, game_master_memory, player_names\n",
        ")\n",
        "\n",
        "relevant_events = gm_components.relevant_events.RelevantEvents(\n",
        "    clock.now, model, game_master_memory\n",
        ")\n",
        "time_display = gm_components.time_display.TimeDisplay(clock)\n",
        "\n",
        "\n",
        "convo_externality = gm_components.conversation.Conversation(\n",
        "    players,\n",
        "    model,\n",
        "    clock=clock,\n",
        "    memory=game_master_memory,\n",
        "    burner_memory_factory=blank_memory_factory,\n",
        "    components=[player_status],\n",
        "    cap_nonplayer_characters=2,\n",
        "    game_master_instructions=game_master_instructions,\n",
        "    shared_context=shared_context,\n",
        "    verbose=False,\n",
        ")\n",
        "\n",
        "direct_effect_externality = gm_components.direct_effect.DirectEffect(\n",
        "    players,\n",
        "    model=model,\n",
        "    memory=game_master_memory,\n",
        "    clock_now=clock.now,\n",
        "    verbose=False,\n",
        "    components=[player_status],\n",
        ")"
      ]
    },
    {
      "cell_type": "code",
      "execution_count": null,
      "metadata": {
        "id": "5SpNVmlh6_hp"
      },
      "outputs": [],
      "source": [
        "# @title Metrics\n",
        "goal_metric = goal_achievement.GoalAchievementMetric(model, player_goals, clock, 'Goal achievement', verbose=False)\n",
        "\n",
        "metrics = [goal_metric]"
      ]
    },
    {
      "cell_type": "code",
      "execution_count": null,
      "metadata": {
        "id": "d_R2BVNOsAwa"
      },
      "outputs": [],
      "source": [
        "# @title Create the game master object\n",
        "env = game_master.GameMaster(\n",
        "    model=model,\n",
        "    memory=game_master_memory,\n",
        "    clock=clock,\n",
        "    players=players,\n",
        "    components=[\n",
        "        instructions_construct,\n",
        "        facts_on_village,\n",
        "        player_status,\n",
        "        convo_externality,\n",
        "        direct_effect_externality,\n",
        "        relevant_events,\n",
        "        time_display,\n",
        "    ],\n",
        "    measurements=metrics,\n",
        "    randomise_initiative=True,\n",
        "    player_observes_event=False,\n",
        "    verbose=True,\n",
        ")"
      ]
    },
    {
      "cell_type": "markdown",
      "metadata": {
        "id": "d2u0bQ1MSCGd"
      },
      "source": [
        "## The RUN"
      ]
    },
    {
      "cell_type": "code",
      "execution_count": null,
      "metadata": {
        "id": "hdTRDaxEZZnN"
      },
      "outputs": [],
      "source": [
        "clock.set(START_TIME)"
      ]
    },
    {
      "cell_type": "code",
      "execution_count": null,
      "metadata": {
        "id": "9IggLF1aH_hF"
      },
      "outputs": [],
      "source": [
        "#@title Initial observations and player location\n",
        "for player in players:\n",
        "  player.observe(\n",
        "      f'{player.name} is at home, they have just woken up.'\n",
        "  )\n",
        "  game_master_memory.add(f'{player.name} is at their private home.')\n"
      ]
    },
    {
      "cell_type": "code",
      "execution_count": null,
      "metadata": {
        "id": "2Bt87stq76gF"
      },
      "outputs": [],
      "source": [
        "# @title Expect about 2-3 minutes per step.\n",
        "episode_length = 12  # @param {type: 'integer'}\n",
        "for _ in range(episode_length):\n",
        "  env.step()\n"
      ]
    },
    {
      "cell_type": "markdown",
      "metadata": {
        "id": "DnwvpvQ4bnFs"
      },
      "source": [
        "## Summary and analysis of the episode"
      ]
    },
    {
      "cell_type": "code",
      "execution_count": null,
      "metadata": {
        "cellView": "form",
        "id": "5U5FDXvs4HSr"
      },
      "outputs": [],
      "source": [
        "# @title Metrics plotting\n",
        "tb = widgets.TabBar([metric.name() for metric in metrics])\n",
        "\n",
        "for metric in metrics:\n",
        "  with tb.output_to(metric.name()):\n",
        "    plotting.plot_metric_line(metric)\n",
        "    plotting.plot_metric_pie(metric)\n"
      ]
    },
    {
      "cell_type": "code",
      "execution_count": null,
      "metadata": {
        "id": "O4jp0xGXvOAJ"
      },
      "outputs": [],
      "source": [
        "# @title Summarize the entire story.\n",
        "all_gm_memories = env._memory.retrieve_recent(k=10000, add_time=True)\n",
        "\n",
        "detailed_story = '\\n'.join(all_gm_memories)\n",
        "print('len(detailed_story): ', len(detailed_story))\n",
        "# print(detailed_story)\n",
        "\n",
        "episode_summary = model.sample_text(\n",
        "    f'Sequence of events:\\n{detailed_story}'+\n",
        "    '\\nNarratively summarize the above temporally ordered ' +\n",
        "    'sequence of events. Write it as a news report. Summary:\\n',\n",
        "    max_characters=8000, max_tokens=8000, terminators=())\n",
        "print(episode_summary)"
      ]
    },
    {
      "cell_type": "code",
      "execution_count": null,
      "metadata": {
        "id": "ALG987t-6j-V"
      },
      "outputs": [],
      "source": [
        "# @title Summarise the perspective of each player\n",
        "player_logs = []\n",
        "player_log_names = []\n",
        "for player in players:\n",
        "  name = player.name\n",
        "  detailed_story = '\\n'.join(player._memory.retrieve_recent(k=1000, add_time=True))\n",
        "  summary = ''\n",
        "  summary = model.sample_text(\n",
        "      f'Sequence of events that happened to {name}:\\n{detailed_story}'\n",
        "      '\\nWrite a short story that summarises these events.\\n'\n",
        "      ,\n",
        "      max_characters=8000, max_tokens=8000, terminators=())\n",
        "\n",
        "  all_player_mem = player._memory.retrieve_recent(k=1000, add_time=True)\n",
        "  all_player_mem = ['Summary:', summary, 'Memories:'] + all_player_mem\n",
        "  player_html = html_lib.PythonObjectToHTMLConverter(all_player_mem).convert()\n",
        "  player_logs.append(player_html)\n",
        "  player_log_names.append(f'{name}')\n"
      ]
    },
    {
      "cell_type": "markdown",
      "metadata": {
        "id": "UmPOvjVxddye"
      },
      "source": [
        "#Build and display HTML log of the experiment"
      ]
    },
    {
      "cell_type": "code",
      "execution_count": null,
      "metadata": {
        "id": "JyEoGgI05xI0"
      },
      "outputs": [],
      "source": [
        "history_sources = [env, direct_effect_externality, convo_externality]\n",
        "histories_html = [html_lib.PythonObjectToHTMLConverter(history.get_history()).convert() for history in history_sources]\n",
        "histories_names = [history.name() for history in history_sources]"
      ]
    },
    {
      "cell_type": "code",
      "execution_count": null,
      "metadata": {
        "id": "XNJuo4Dwt5Ui"
      },
      "outputs": [],
      "source": [
        "gm_mem_html = html_lib.PythonObjectToHTMLConverter(all_gm_memories).convert()\n",
        "\n",
        "tabbed_html = html_lib.combine_html_pages(\n",
        "    histories_html + [gm_mem_html] + player_logs,\n",
        "    histories_names + ['GM'] + player_log_names,\n",
        "    summary=episode_summary,\n",
        "    title='Riverbend elections experiment',\n",
        ")\n",
        "\n",
        "tabbed_html = html_lib.finalise_html(tabbed_html)"
      ]
    },
    {
      "cell_type": "code",
      "execution_count": null,
      "metadata": {
        "id": "pumxvmrzANOq"
      },
      "outputs": [],
      "source": [
        "display.HTML(tabbed_html)"
      ]
    },
    {
      "cell_type": "markdown",
      "metadata": {
        "id": "HX-M9Im_dneG"
      },
      "source": [
        "#Interact with a specific player"
      ]
    },
    {
      "cell_type": "code",
      "execution_count": null,
      "metadata": {
        "id": "ESJ1l7_Kt5Uj"
      },
      "outputs": [],
      "source": [
        "sim_to_interact = 'Alice'  # @param ['Alice', 'Bob','Charlie', 'Dorothy', 'Ellen'] {type:\"string\"}\n",
        "user_identity = 'a close friend'  # @param {type:\"string\"}\n",
        "interaction_premise = f'{sim_to_interact} is talking to {user_identity}\\n'  # @param {type:\"string\"}\n",
        "\n",
        "player_names = [player.name for player in players]\n",
        "player_by_name = {player.name: player for player in players}\n",
        "selected_player = player_by_name[sim_to_interact]\n",
        "interrogation = interaction_premise"
      ]
    },
    {
      "cell_type": "code",
      "execution_count": null,
      "metadata": {
        "id": "5Q1cYflLt5Uj"
      },
      "outputs": [],
      "source": [
        "utterence_from_user = 'Did you win the elections?'  # @param {type:\"string\"}\n",
        "\n",
        "interrogation += f'{user_identity}: {utterence_from_user}'\n",
        "player_says = selected_player.say(interrogation)\n",
        "interrogation += f'\\n{sim_to_interact}: {player_says}\\n'\n",
        "print(interrogation)"
      ]
    }
  ],
  "metadata": {
    "colab": {
      "collapsed_sections": [
        "HX-M9Im_dneG"
      ],
      "last_runtime": {
        "build_target": "",
        "kind": "private"
      },
      "private_outputs": true,
      "provenance": []
    },
    "kernelspec": {
      "display_name": "Python 3",
      "name": "python3"
    },
    "language_info": {
      "name": "python"
    }
  },
  "nbformat": 4,
  "nbformat_minor": 0
}
